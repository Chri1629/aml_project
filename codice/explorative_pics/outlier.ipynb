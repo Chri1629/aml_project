{
 "metadata": {
  "language_info": {
   "codemirror_mode": {
    "name": "ipython",
    "version": 3
   },
   "file_extension": ".py",
   "mimetype": "text/x-python",
   "name": "python",
   "nbconvert_exporter": "python",
   "pygments_lexer": "ipython3",
   "version": "3.8.5-final"
  },
  "orig_nbformat": 2,
  "kernelspec": {
   "name": "python3",
   "display_name": "Python 3",
   "language": "python"
  }
 },
 "nbformat": 4,
 "nbformat_minor": 2,
 "cells": [
  {
   "cell_type": "code",
   "execution_count": 1,
   "metadata": {},
   "outputs": [],
   "source": [
    "import pandas as pd\n",
    "import numpy as np"
   ]
  },
  {
   "cell_type": "code",
   "execution_count": 5,
   "metadata": {},
   "outputs": [],
   "source": [
    "pred = np.load(r\"C:\\Users\\feder\\Google Drive\\Universita\\Materie\\Advanced machine learning\\Progetto\\codice\\risultati_modelli\\fede4-3\\y_val_pred.npy\")"
   ]
  },
  {
   "cell_type": "code",
   "execution_count": 9,
   "metadata": {},
   "outputs": [],
   "source": [
    "y_validation = np.load('../../data/scaled/y_validation.npy')"
   ]
  },
  {
   "cell_type": "code",
   "execution_count": 10,
   "metadata": {},
   "outputs": [
    {
     "output_type": "execute_result",
     "data": {
      "text/plain": [
       "array([804], dtype=int64)"
      ]
     },
     "metadata": {},
     "execution_count": 10
    }
   ],
   "source": [
    "y_validation[121033]"
   ]
  },
  {
   "cell_type": "code",
   "execution_count": 6,
   "metadata": {},
   "outputs": [
    {
     "output_type": "execute_result",
     "data": {
      "text/plain": [
       "121033"
      ]
     },
     "metadata": {},
     "execution_count": 6
    }
   ],
   "source": [
    "np.argmax(pred)"
   ]
  },
  {
   "cell_type": "code",
   "execution_count": 7,
   "metadata": {},
   "outputs": [
    {
     "output_type": "execute_result",
     "data": {
      "text/plain": [
       "array([12725.987], dtype=float32)"
      ]
     },
     "metadata": {},
     "execution_count": 7
    }
   ],
   "source": [
    "pred[121033]"
   ]
  },
  {
   "cell_type": "code",
   "execution_count": 4,
   "metadata": {},
   "outputs": [],
   "source": [
    "val = np.load(r\"C:\\Users\\feder\\Google Drive\\Universita\\Materie\\Advanced machine learning\\Progetto\\data\\scaled\\x_train_scaled.npy\")"
   ]
  },
  {
   "cell_type": "code",
   "execution_count": 5,
   "metadata": {},
   "outputs": [
    {
     "output_type": "execute_result",
     "data": {
      "text/plain": [
       "968388"
      ]
     },
     "metadata": {},
     "execution_count": 5
    }
   ],
   "source": [
    "len(val)"
   ]
  },
  {
   "cell_type": "code",
   "execution_count": 11,
   "metadata": {},
   "outputs": [],
   "source": [
    "valdf = pd.read_csv(r\"C:\\Users\\feder\\Google Drive\\Universita\\Materie\\Advanced machine learning\\Progetto\\data\\x_train_no_out_dist.csv\")"
   ]
  },
  {
   "cell_type": "code",
   "execution_count": 15,
   "metadata": {},
   "outputs": [],
   "source": [
    "x = valdf[(valdf[\"trip_duration\"] == 804)]"
   ]
  },
  {
   "cell_type": "code",
   "execution_count": 16,
   "metadata": {},
   "outputs": [
    {
     "output_type": "execute_result",
     "data": {
      "text/plain": [
       "        trip_duration         id  vendor_id      pickup_datetime  \\\n",
       "611165            804  id0401529          2  2016-06-02 15:19:35   \n",
       "\n",
       "           dropoff_datetime  pickup_longitude  pickup_latitude  \\\n",
       "611165  2016-06-02 15:32:59        -73.980751        40.757111   \n",
       "\n",
       "        dropoff_longitude  dropoff_latitude  passenger_count_0  ...  \\\n",
       "611165         -74.240051         38.478298                  0  ...   \n",
       "\n",
       "        County_New York  County_Queens  County_Richmond  County_Rockland  \\\n",
       "611165                1              0                0                0   \n",
       "\n",
       "        County_Suffolk  County_Westchester  pickup_date  pickup_hour  \\\n",
       "611165               0                   0   2016-06-02           15   \n",
       "\n",
       "        pickup_weekday        dis  \n",
       "611165               3  98.754845  \n",
       "\n",
       "[1 rows x 35 columns]"
      ],
      "text/html": "<div>\n<style scoped>\n    .dataframe tbody tr th:only-of-type {\n        vertical-align: middle;\n    }\n\n    .dataframe tbody tr th {\n        vertical-align: top;\n    }\n\n    .dataframe thead th {\n        text-align: right;\n    }\n</style>\n<table border=\"1\" class=\"dataframe\">\n  <thead>\n    <tr style=\"text-align: right;\">\n      <th></th>\n      <th>trip_duration</th>\n      <th>id</th>\n      <th>vendor_id</th>\n      <th>pickup_datetime</th>\n      <th>dropoff_datetime</th>\n      <th>pickup_longitude</th>\n      <th>pickup_latitude</th>\n      <th>dropoff_longitude</th>\n      <th>dropoff_latitude</th>\n      <th>passenger_count_0</th>\n      <th>...</th>\n      <th>County_New York</th>\n      <th>County_Queens</th>\n      <th>County_Richmond</th>\n      <th>County_Rockland</th>\n      <th>County_Suffolk</th>\n      <th>County_Westchester</th>\n      <th>pickup_date</th>\n      <th>pickup_hour</th>\n      <th>pickup_weekday</th>\n      <th>dis</th>\n    </tr>\n  </thead>\n  <tbody>\n    <tr>\n      <th>611165</th>\n      <td>804</td>\n      <td>id0401529</td>\n      <td>2</td>\n      <td>2016-06-02 15:19:35</td>\n      <td>2016-06-02 15:32:59</td>\n      <td>-73.980751</td>\n      <td>40.757111</td>\n      <td>-74.240051</td>\n      <td>38.478298</td>\n      <td>0</td>\n      <td>...</td>\n      <td>1</td>\n      <td>0</td>\n      <td>0</td>\n      <td>0</td>\n      <td>0</td>\n      <td>0</td>\n      <td>2016-06-02</td>\n      <td>15</td>\n      <td>3</td>\n      <td>98.754845</td>\n    </tr>\n  </tbody>\n</table>\n<p>1 rows × 35 columns</p>\n</div>"
     },
     "metadata": {},
     "execution_count": 16
    }
   ],
   "source": [
    "x[x[\"dis\"] == max(x[\"dis\"])]"
   ]
  },
  {
   "cell_type": "code",
   "execution_count": 4,
   "metadata": {},
   "outputs": [],
   "source": [
    "traindf = pd.read_csv(r\"C:\\Users\\feder\\Google Drive\\Universita\\Materie\\Advanced machine learning\\Progetto\\data\\train.csv\")"
   ]
  },
  {
   "cell_type": "code",
   "execution_count": 8,
   "metadata": {},
   "outputs": [
    {
     "output_type": "execute_result",
     "data": {
      "text/plain": [
       "                id  vendor_id      pickup_datetime     dropoff_datetime  \\\n",
       "842      id3263580          2  2016-05-21 12:46:46  2016-05-21 12:46:49   \n",
       "1107     id0729156          2  2016-06-23 13:36:48  2016-06-23 13:36:50   \n",
       "1492     id2456838          1  2016-01-13 20:11:46  2016-01-13 20:11:53   \n",
       "1728     id2134482          1  2016-01-22 16:13:01  2016-01-22 16:13:20   \n",
       "1960     id0508736          1  2016-03-30 08:05:38  2016-03-30 08:05:41   \n",
       "...            ...        ...                  ...                  ...   \n",
       "1456613  id2650432          1  2016-06-06 18:37:15  2016-06-06 18:37:24   \n",
       "1457121  id2651184          1  2016-04-03 07:24:06  2016-04-03 07:24:13   \n",
       "1457746  id1044471          2  2016-01-29 21:58:11  2016-01-29 21:58:23   \n",
       "1458044  id3200588          2  2016-03-12 01:35:35  2016-03-12 01:35:42   \n",
       "1458085  id1326136          2  2016-05-21 12:07:11  2016-05-21 12:07:28   \n",
       "\n",
       "         passenger_count  pickup_longitude  pickup_latitude  \\\n",
       "842                    2        -73.782372        40.648766   \n",
       "1107                   3        -73.827660        40.716175   \n",
       "1492                   1        -73.793442        40.644814   \n",
       "1728                   1        -73.776314        40.645454   \n",
       "1960                   1        -73.964096        40.777172   \n",
       "...                  ...               ...              ...   \n",
       "1456613                1        -73.789665        40.646984   \n",
       "1457121                1        -73.913620        40.765675   \n",
       "1457746                1        -73.975708        40.733089   \n",
       "1458044                1        -74.007378        40.739441   \n",
       "1458085                1        -73.978935        40.762463   \n",
       "\n",
       "         dropoff_longitude  dropoff_latitude store_and_fwd_flag  trip_duration  \n",
       "842             -73.782372         40.648746                  N              3  \n",
       "1107            -73.822113         40.711452                  N              2  \n",
       "1492            -73.795242         40.644669                  N              7  \n",
       "1728            -73.776314         40.645454                  N             19  \n",
       "1960            -73.964088         40.777157                  N              3  \n",
       "...                    ...               ...                ...            ...  \n",
       "1456613         -73.789658         40.646976                  N              9  \n",
       "1457121         -73.913620         40.765667                  N              7  \n",
       "1457746         -73.975685         40.733101                  N             12  \n",
       "1458044         -74.007378         40.739449                  N              7  \n",
       "1458085         -73.977654         40.762012                  N             17  \n",
       "\n",
       "[3521 rows x 11 columns]"
      ],
      "text/html": "<div>\n<style scoped>\n    .dataframe tbody tr th:only-of-type {\n        vertical-align: middle;\n    }\n\n    .dataframe tbody tr th {\n        vertical-align: top;\n    }\n\n    .dataframe thead th {\n        text-align: right;\n    }\n</style>\n<table border=\"1\" class=\"dataframe\">\n  <thead>\n    <tr style=\"text-align: right;\">\n      <th></th>\n      <th>id</th>\n      <th>vendor_id</th>\n      <th>pickup_datetime</th>\n      <th>dropoff_datetime</th>\n      <th>passenger_count</th>\n      <th>pickup_longitude</th>\n      <th>pickup_latitude</th>\n      <th>dropoff_longitude</th>\n      <th>dropoff_latitude</th>\n      <th>store_and_fwd_flag</th>\n      <th>trip_duration</th>\n    </tr>\n  </thead>\n  <tbody>\n    <tr>\n      <th>842</th>\n      <td>id3263580</td>\n      <td>2</td>\n      <td>2016-05-21 12:46:46</td>\n      <td>2016-05-21 12:46:49</td>\n      <td>2</td>\n      <td>-73.782372</td>\n      <td>40.648766</td>\n      <td>-73.782372</td>\n      <td>40.648746</td>\n      <td>N</td>\n      <td>3</td>\n    </tr>\n    <tr>\n      <th>1107</th>\n      <td>id0729156</td>\n      <td>2</td>\n      <td>2016-06-23 13:36:48</td>\n      <td>2016-06-23 13:36:50</td>\n      <td>3</td>\n      <td>-73.827660</td>\n      <td>40.716175</td>\n      <td>-73.822113</td>\n      <td>40.711452</td>\n      <td>N</td>\n      <td>2</td>\n    </tr>\n    <tr>\n      <th>1492</th>\n      <td>id2456838</td>\n      <td>1</td>\n      <td>2016-01-13 20:11:46</td>\n      <td>2016-01-13 20:11:53</td>\n      <td>1</td>\n      <td>-73.793442</td>\n      <td>40.644814</td>\n      <td>-73.795242</td>\n      <td>40.644669</td>\n      <td>N</td>\n      <td>7</td>\n    </tr>\n    <tr>\n      <th>1728</th>\n      <td>id2134482</td>\n      <td>1</td>\n      <td>2016-01-22 16:13:01</td>\n      <td>2016-01-22 16:13:20</td>\n      <td>1</td>\n      <td>-73.776314</td>\n      <td>40.645454</td>\n      <td>-73.776314</td>\n      <td>40.645454</td>\n      <td>N</td>\n      <td>19</td>\n    </tr>\n    <tr>\n      <th>1960</th>\n      <td>id0508736</td>\n      <td>1</td>\n      <td>2016-03-30 08:05:38</td>\n      <td>2016-03-30 08:05:41</td>\n      <td>1</td>\n      <td>-73.964096</td>\n      <td>40.777172</td>\n      <td>-73.964088</td>\n      <td>40.777157</td>\n      <td>N</td>\n      <td>3</td>\n    </tr>\n    <tr>\n      <th>...</th>\n      <td>...</td>\n      <td>...</td>\n      <td>...</td>\n      <td>...</td>\n      <td>...</td>\n      <td>...</td>\n      <td>...</td>\n      <td>...</td>\n      <td>...</td>\n      <td>...</td>\n      <td>...</td>\n    </tr>\n    <tr>\n      <th>1456613</th>\n      <td>id2650432</td>\n      <td>1</td>\n      <td>2016-06-06 18:37:15</td>\n      <td>2016-06-06 18:37:24</td>\n      <td>1</td>\n      <td>-73.789665</td>\n      <td>40.646984</td>\n      <td>-73.789658</td>\n      <td>40.646976</td>\n      <td>N</td>\n      <td>9</td>\n    </tr>\n    <tr>\n      <th>1457121</th>\n      <td>id2651184</td>\n      <td>1</td>\n      <td>2016-04-03 07:24:06</td>\n      <td>2016-04-03 07:24:13</td>\n      <td>1</td>\n      <td>-73.913620</td>\n      <td>40.765675</td>\n      <td>-73.913620</td>\n      <td>40.765667</td>\n      <td>N</td>\n      <td>7</td>\n    </tr>\n    <tr>\n      <th>1457746</th>\n      <td>id1044471</td>\n      <td>2</td>\n      <td>2016-01-29 21:58:11</td>\n      <td>2016-01-29 21:58:23</td>\n      <td>1</td>\n      <td>-73.975708</td>\n      <td>40.733089</td>\n      <td>-73.975685</td>\n      <td>40.733101</td>\n      <td>N</td>\n      <td>12</td>\n    </tr>\n    <tr>\n      <th>1458044</th>\n      <td>id3200588</td>\n      <td>2</td>\n      <td>2016-03-12 01:35:35</td>\n      <td>2016-03-12 01:35:42</td>\n      <td>1</td>\n      <td>-74.007378</td>\n      <td>40.739441</td>\n      <td>-74.007378</td>\n      <td>40.739449</td>\n      <td>N</td>\n      <td>7</td>\n    </tr>\n    <tr>\n      <th>1458085</th>\n      <td>id1326136</td>\n      <td>2</td>\n      <td>2016-05-21 12:07:11</td>\n      <td>2016-05-21 12:07:28</td>\n      <td>1</td>\n      <td>-73.978935</td>\n      <td>40.762463</td>\n      <td>-73.977654</td>\n      <td>40.762012</td>\n      <td>N</td>\n      <td>17</td>\n    </tr>\n  </tbody>\n</table>\n<p>3521 rows × 11 columns</p>\n</div>"
     },
     "metadata": {},
     "execution_count": 8
    }
   ],
   "source": [
    "traindf[traindf[\"trip_duration\"] < 20]"
   ]
  },
  {
   "cell_type": "code",
   "execution_count": null,
   "metadata": {},
   "outputs": [],
   "source": []
  }
 ]
}