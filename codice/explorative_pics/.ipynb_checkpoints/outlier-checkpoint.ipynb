{
 "metadata": {
  "language_info": {
   "codemirror_mode": {
    "name": "ipython",
    "version": 3
   },
   "file_extension": ".py",
   "mimetype": "text/x-python",
   "name": "python",
   "nbconvert_exporter": "python",
   "pygments_lexer": "ipython3",
   "version": "3.8.5-final"
  },
  "orig_nbformat": 2,
  "kernelspec": {
   "name": "python3",
   "display_name": "Python 3",
   "language": "python"
  }
 },
 "nbformat": 4,
 "nbformat_minor": 2,
 "cells": [
  {
   "cell_type": "code",
   "execution_count": 2,
   "metadata": {},
   "outputs": [],
   "source": [
    "import pandas as pd\n",
    "import numpy as np"
   ]
  },
  {
   "cell_type": "code",
   "execution_count": 3,
   "metadata": {},
   "outputs": [],
   "source": [
    "pred = np.load(r\"C:\\Users\\feder\\Google Drive\\Universita\\Materie\\Advanced machine learning\\Progetto\\codice\\risultati_modelli\\test_scatter\\y_val_pred.npy\")"
   ]
  },
  {
   "cell_type": "code",
   "execution_count": 8,
   "metadata": {},
   "outputs": [
    {
     "output_type": "execute_result",
     "data": {
      "text/plain": [
       "104134"
      ]
     },
     "metadata": {},
     "execution_count": 8
    }
   ],
   "source": [
    "np.argmax(pred)"
   ]
  },
  {
   "cell_type": "code",
   "execution_count": 9,
   "metadata": {},
   "outputs": [],
   "source": [
    "val = np.load(r\"C:\\Users\\feder\\Google Drive\\Universita\\Materie\\Advanced machine learning\\Progetto\\data\\scaled\\x_validation_scaled.npy\")"
   ]
  },
  {
   "cell_type": "code",
   "execution_count": 10,
   "metadata": {},
   "outputs": [
    {
     "output_type": "execute_result",
     "data": {
      "text/plain": [
       "array([ 2.04873084e+02,  1.31138141e-01, -3.15737091e-01, -2.45964529e-01,\n",
       "       -1.16347744e+01,  2.43282041e+02, -1.29670527e+01,  0.00000000e+00,\n",
       "        0.00000000e+00,  0.00000000e+00,  0.00000000e+00,  0.00000000e+00,\n",
       "        0.00000000e+00,  0.00000000e+00,  0.00000000e+00,  0.00000000e+00,\n",
       "        0.00000000e+00,  0.00000000e+00,  0.00000000e+00,  0.00000000e+00,\n",
       "        0.00000000e+00,  0.00000000e+00,  0.00000000e+00,  0.00000000e+00,\n",
       "        0.00000000e+00,  0.00000000e+00,  0.00000000e+00,  0.00000000e+00,\n",
       "        1.00000000e+00,  0.00000000e+00,  0.00000000e+00,  0.00000000e+00,\n",
       "        0.00000000e+00,  1.00000000e+00,  0.00000000e+00,  0.00000000e+00,\n",
       "        0.00000000e+00,  0.00000000e+00,  0.00000000e+00,  0.00000000e+00,\n",
       "        0.00000000e+00,  0.00000000e+00,  1.00000000e+00,  0.00000000e+00,\n",
       "        0.00000000e+00,  0.00000000e+00,  0.00000000e+00,  0.00000000e+00,\n",
       "        1.00000000e+00,  0.00000000e+00,  0.00000000e+00,  0.00000000e+00,\n",
       "        0.00000000e+00,  0.00000000e+00,  0.00000000e+00,  0.00000000e+00,\n",
       "        0.00000000e+00,  1.00000000e+00,  0.00000000e+00])"
      ]
     },
     "metadata": {},
     "execution_count": 10
    }
   ],
   "source": [
    "val[104134]"
   ]
  },
  {
   "cell_type": "code",
   "execution_count": 11,
   "metadata": {},
   "outputs": [],
   "source": [
    "valdf = pd.read_csv(r\"C:\\Users\\feder\\Google Drive\\Universita\\Materie\\Advanced machine learning\\Progetto\\data\\x_validation_no_out_dist.csv\")"
   ]
  },
  {
   "cell_type": "code",
   "execution_count": 12,
   "metadata": {},
   "outputs": [
    {
     "output_type": "execute_result",
     "data": {
      "text/plain": [
       "id                                id1001696\n",
       "vendor_id                                 1\n",
       "pickup_datetime         2016-02-24 21:02:32\n",
       "dropoff_datetime        2016-02-24 21:25:57\n",
       "pickup_longitude                   -73.9724\n",
       "pickup_latitude                     40.7586\n",
       "dropoff_longitude                  -79.5535\n",
       "dropoff_latitude                     43.674\n",
       "County                             New York\n",
       "passenger_count_0                         0\n",
       "passenger_count_1                         1\n",
       "passenger_count_2                         0\n",
       "passenger_count_3                         0\n",
       "passenger_count_4                         0\n",
       "passenger_count_5                         0\n",
       "passenger_count_6                         0\n",
       "passenger_count_7                         0\n",
       "passenger_count_8                         0\n",
       "passenger_count_9                         0\n",
       "store_and_fwd_flag_N                      1\n",
       "store_and_fwd_flag_Y                      0\n",
       "pickup_date                      2016-02-24\n",
       "pickup_hour                              21\n",
       "pickup_weekday                            2\n",
       "dis                                 710.094\n",
       "Name: 104134, dtype: object"
      ]
     },
     "metadata": {},
     "execution_count": 12
    }
   ],
   "source": [
    "valdf.iloc[104134]"
   ]
  },
  {
   "cell_type": "code",
   "execution_count": 13,
   "metadata": {},
   "outputs": [
    {
     "output_type": "execute_result",
     "data": {
      "text/plain": [
       "               id  vendor_id      pickup_datetime     dropoff_datetime  \\\n",
       "0       id2171730          2  2016-02-09 12:28:28  2016-02-09 12:51:24   \n",
       "1       id1704135          1  2016-05-17 22:59:06  2016-05-17 23:08:43   \n",
       "2       id2492832          1  2016-04-06 21:19:35  2016-04-06 21:35:14   \n",
       "3       id3454730          1  2016-03-31 22:27:31  2016-03-31 22:36:38   \n",
       "4       id2441082          1  2016-02-09 22:40:29  2016-02-09 22:57:45   \n",
       "...           ...        ...                  ...                  ...   \n",
       "415672  id0670235          2  2016-03-08 22:06:05  2016-03-08 22:16:09   \n",
       "415673  id0351870          2  2016-06-20 04:14:03  2016-06-20 04:15:46   \n",
       "415674  id3213321          2  2016-04-12 23:49:41  2016-04-12 23:51:23   \n",
       "415675  id1479846          1  2016-01-21 17:03:14  2016-01-21 17:15:12   \n",
       "415676  id0088688          1  2016-01-17 12:42:27  2016-01-17 12:51:39   \n",
       "\n",
       "        pickup_longitude  pickup_latitude  dropoff_longitude  \\\n",
       "0             -73.974419        40.746948         -73.963493   \n",
       "1             -73.968674        40.799000         -73.948151   \n",
       "2             -73.980057        40.743237         -73.951988   \n",
       "3             -73.978989        40.785175         -73.952736   \n",
       "4             -73.997055        40.731518         -73.992592   \n",
       "...                  ...              ...                ...   \n",
       "415672        -73.862640        40.768986         -73.885063   \n",
       "415673        -73.988297        40.748981         -73.986572   \n",
       "415674        -73.971390        40.757992         -73.974983   \n",
       "415675        -73.976540        40.751690         -73.990913   \n",
       "415676        -73.957603        40.776878         -73.975906   \n",
       "\n",
       "        dropoff_latitude    County  passenger_count_0  ...  passenger_count_6  \\\n",
       "0              40.709522  New York                  0  ...                  0   \n",
       "1              40.784634  New York                  0  ...                  0   \n",
       "2              40.785404  New York                  0  ...                  0   \n",
       "3              40.790997  New York                  0  ...                  0   \n",
       "4              40.746262  New York                  0  ...                  0   \n",
       "...                  ...       ...                ...  ...                ...   \n",
       "415672         40.753620    Queens                  0  ...                  0   \n",
       "415673         40.758190  New York                  0  ...                  0   \n",
       "415674         40.753006  New York                  0  ...                  0   \n",
       "415675         40.750008  New York                  0  ...                  0   \n",
       "415676         40.765511  New York                  0  ...                  0   \n",
       "\n",
       "        passenger_count_7  passenger_count_8  passenger_count_9  \\\n",
       "0                       0                  0                  0   \n",
       "1                       0                  0                  0   \n",
       "2                       0                  0                  0   \n",
       "3                       0                  0                  0   \n",
       "4                       0                  0                  0   \n",
       "...                   ...                ...                ...   \n",
       "415672                  0                  0                  0   \n",
       "415673                  0                  0                  0   \n",
       "415674                  0                  0                  0   \n",
       "415675                  0                  0                  0   \n",
       "415676                  0                  0                  0   \n",
       "\n",
       "        store_and_fwd_flag_N  store_and_fwd_flag_Y  pickup_date  pickup_hour  \\\n",
       "0                          1                     0   2016-02-09           12   \n",
       "1                          1                     0   2016-05-17           22   \n",
       "2                          1                     0   2016-04-06           21   \n",
       "3                          1                     0   2016-03-31           22   \n",
       "4                          1                     0   2016-02-09           22   \n",
       "...                      ...                   ...          ...          ...   \n",
       "415672                     1                     0   2016-03-08           22   \n",
       "415673                     1                     0   2016-06-20            4   \n",
       "415674                     1                     0   2016-04-12           23   \n",
       "415675                     1                     0   2016-01-21           17   \n",
       "415676                     1                     0   2016-01-17           12   \n",
       "\n",
       "        pickup_weekday       dis  \n",
       "0                    1  2.363710  \n",
       "1                    1  2.723216  \n",
       "2                    2  4.415065  \n",
       "3                    3  3.097818  \n",
       "4                    1  0.948256  \n",
       "...                ...       ...  \n",
       "415672               1  2.968184  \n",
       "415673               0  0.474169  \n",
       "415674               1  0.552651  \n",
       "415675               3  1.649926  \n",
       "415676               6  2.384508  \n",
       "\n",
       "[415677 rows x 25 columns]"
      ],
      "text/html": "<div>\n<style scoped>\n    .dataframe tbody tr th:only-of-type {\n        vertical-align: middle;\n    }\n\n    .dataframe tbody tr th {\n        vertical-align: top;\n    }\n\n    .dataframe thead th {\n        text-align: right;\n    }\n</style>\n<table border=\"1\" class=\"dataframe\">\n  <thead>\n    <tr style=\"text-align: right;\">\n      <th></th>\n      <th>id</th>\n      <th>vendor_id</th>\n      <th>pickup_datetime</th>\n      <th>dropoff_datetime</th>\n      <th>pickup_longitude</th>\n      <th>pickup_latitude</th>\n      <th>dropoff_longitude</th>\n      <th>dropoff_latitude</th>\n      <th>County</th>\n      <th>passenger_count_0</th>\n      <th>...</th>\n      <th>passenger_count_6</th>\n      <th>passenger_count_7</th>\n      <th>passenger_count_8</th>\n      <th>passenger_count_9</th>\n      <th>store_and_fwd_flag_N</th>\n      <th>store_and_fwd_flag_Y</th>\n      <th>pickup_date</th>\n      <th>pickup_hour</th>\n      <th>pickup_weekday</th>\n      <th>dis</th>\n    </tr>\n  </thead>\n  <tbody>\n    <tr>\n      <th>0</th>\n      <td>id2171730</td>\n      <td>2</td>\n      <td>2016-02-09 12:28:28</td>\n      <td>2016-02-09 12:51:24</td>\n      <td>-73.974419</td>\n      <td>40.746948</td>\n      <td>-73.963493</td>\n      <td>40.709522</td>\n      <td>New York</td>\n      <td>0</td>\n      <td>...</td>\n      <td>0</td>\n      <td>0</td>\n      <td>0</td>\n      <td>0</td>\n      <td>1</td>\n      <td>0</td>\n      <td>2016-02-09</td>\n      <td>12</td>\n      <td>1</td>\n      <td>2.363710</td>\n    </tr>\n    <tr>\n      <th>1</th>\n      <td>id1704135</td>\n      <td>1</td>\n      <td>2016-05-17 22:59:06</td>\n      <td>2016-05-17 23:08:43</td>\n      <td>-73.968674</td>\n      <td>40.799000</td>\n      <td>-73.948151</td>\n      <td>40.784634</td>\n      <td>New York</td>\n      <td>0</td>\n      <td>...</td>\n      <td>0</td>\n      <td>0</td>\n      <td>0</td>\n      <td>0</td>\n      <td>1</td>\n      <td>0</td>\n      <td>2016-05-17</td>\n      <td>22</td>\n      <td>1</td>\n      <td>2.723216</td>\n    </tr>\n    <tr>\n      <th>2</th>\n      <td>id2492832</td>\n      <td>1</td>\n      <td>2016-04-06 21:19:35</td>\n      <td>2016-04-06 21:35:14</td>\n      <td>-73.980057</td>\n      <td>40.743237</td>\n      <td>-73.951988</td>\n      <td>40.785404</td>\n      <td>New York</td>\n      <td>0</td>\n      <td>...</td>\n      <td>0</td>\n      <td>0</td>\n      <td>0</td>\n      <td>0</td>\n      <td>1</td>\n      <td>0</td>\n      <td>2016-04-06</td>\n      <td>21</td>\n      <td>2</td>\n      <td>4.415065</td>\n    </tr>\n    <tr>\n      <th>3</th>\n      <td>id3454730</td>\n      <td>1</td>\n      <td>2016-03-31 22:27:31</td>\n      <td>2016-03-31 22:36:38</td>\n      <td>-73.978989</td>\n      <td>40.785175</td>\n      <td>-73.952736</td>\n      <td>40.790997</td>\n      <td>New York</td>\n      <td>0</td>\n      <td>...</td>\n      <td>0</td>\n      <td>0</td>\n      <td>0</td>\n      <td>0</td>\n      <td>1</td>\n      <td>0</td>\n      <td>2016-03-31</td>\n      <td>22</td>\n      <td>3</td>\n      <td>3.097818</td>\n    </tr>\n    <tr>\n      <th>4</th>\n      <td>id2441082</td>\n      <td>1</td>\n      <td>2016-02-09 22:40:29</td>\n      <td>2016-02-09 22:57:45</td>\n      <td>-73.997055</td>\n      <td>40.731518</td>\n      <td>-73.992592</td>\n      <td>40.746262</td>\n      <td>New York</td>\n      <td>0</td>\n      <td>...</td>\n      <td>0</td>\n      <td>0</td>\n      <td>0</td>\n      <td>0</td>\n      <td>1</td>\n      <td>0</td>\n      <td>2016-02-09</td>\n      <td>22</td>\n      <td>1</td>\n      <td>0.948256</td>\n    </tr>\n    <tr>\n      <th>...</th>\n      <td>...</td>\n      <td>...</td>\n      <td>...</td>\n      <td>...</td>\n      <td>...</td>\n      <td>...</td>\n      <td>...</td>\n      <td>...</td>\n      <td>...</td>\n      <td>...</td>\n      <td>...</td>\n      <td>...</td>\n      <td>...</td>\n      <td>...</td>\n      <td>...</td>\n      <td>...</td>\n      <td>...</td>\n      <td>...</td>\n      <td>...</td>\n      <td>...</td>\n      <td>...</td>\n    </tr>\n    <tr>\n      <th>415672</th>\n      <td>id0670235</td>\n      <td>2</td>\n      <td>2016-03-08 22:06:05</td>\n      <td>2016-03-08 22:16:09</td>\n      <td>-73.862640</td>\n      <td>40.768986</td>\n      <td>-73.885063</td>\n      <td>40.753620</td>\n      <td>Queens</td>\n      <td>0</td>\n      <td>...</td>\n      <td>0</td>\n      <td>0</td>\n      <td>0</td>\n      <td>0</td>\n      <td>1</td>\n      <td>0</td>\n      <td>2016-03-08</td>\n      <td>22</td>\n      <td>1</td>\n      <td>2.968184</td>\n    </tr>\n    <tr>\n      <th>415673</th>\n      <td>id0351870</td>\n      <td>2</td>\n      <td>2016-06-20 04:14:03</td>\n      <td>2016-06-20 04:15:46</td>\n      <td>-73.988297</td>\n      <td>40.748981</td>\n      <td>-73.986572</td>\n      <td>40.758190</td>\n      <td>New York</td>\n      <td>0</td>\n      <td>...</td>\n      <td>0</td>\n      <td>0</td>\n      <td>0</td>\n      <td>0</td>\n      <td>1</td>\n      <td>0</td>\n      <td>2016-06-20</td>\n      <td>4</td>\n      <td>0</td>\n      <td>0.474169</td>\n    </tr>\n    <tr>\n      <th>415674</th>\n      <td>id3213321</td>\n      <td>2</td>\n      <td>2016-04-12 23:49:41</td>\n      <td>2016-04-12 23:51:23</td>\n      <td>-73.971390</td>\n      <td>40.757992</td>\n      <td>-73.974983</td>\n      <td>40.753006</td>\n      <td>New York</td>\n      <td>0</td>\n      <td>...</td>\n      <td>0</td>\n      <td>0</td>\n      <td>0</td>\n      <td>0</td>\n      <td>1</td>\n      <td>0</td>\n      <td>2016-04-12</td>\n      <td>23</td>\n      <td>1</td>\n      <td>0.552651</td>\n    </tr>\n    <tr>\n      <th>415675</th>\n      <td>id1479846</td>\n      <td>1</td>\n      <td>2016-01-21 17:03:14</td>\n      <td>2016-01-21 17:15:12</td>\n      <td>-73.976540</td>\n      <td>40.751690</td>\n      <td>-73.990913</td>\n      <td>40.750008</td>\n      <td>New York</td>\n      <td>0</td>\n      <td>...</td>\n      <td>0</td>\n      <td>0</td>\n      <td>0</td>\n      <td>0</td>\n      <td>1</td>\n      <td>0</td>\n      <td>2016-01-21</td>\n      <td>17</td>\n      <td>3</td>\n      <td>1.649926</td>\n    </tr>\n    <tr>\n      <th>415676</th>\n      <td>id0088688</td>\n      <td>1</td>\n      <td>2016-01-17 12:42:27</td>\n      <td>2016-01-17 12:51:39</td>\n      <td>-73.957603</td>\n      <td>40.776878</td>\n      <td>-73.975906</td>\n      <td>40.765511</td>\n      <td>New York</td>\n      <td>0</td>\n      <td>...</td>\n      <td>0</td>\n      <td>0</td>\n      <td>0</td>\n      <td>0</td>\n      <td>1</td>\n      <td>0</td>\n      <td>2016-01-17</td>\n      <td>12</td>\n      <td>6</td>\n      <td>2.384508</td>\n    </tr>\n  </tbody>\n</table>\n<p>415677 rows × 25 columns</p>\n</div>"
     },
     "metadata": {},
     "execution_count": 13
    }
   ],
   "source": [
    "valdf"
   ]
  },
  {
   "cell_type": "code",
   "execution_count": 4,
   "metadata": {},
   "outputs": [],
   "source": [
    "traindf = pd.read_csv(r\"C:\\Users\\feder\\Google Drive\\Universita\\Materie\\Advanced machine learning\\Progetto\\data\\train.csv\")"
   ]
  },
  {
   "cell_type": "code",
   "execution_count": 8,
   "metadata": {},
   "outputs": [
    {
     "output_type": "execute_result",
     "data": {
      "text/plain": [
       "                id  vendor_id      pickup_datetime     dropoff_datetime  \\\n",
       "842      id3263580          2  2016-05-21 12:46:46  2016-05-21 12:46:49   \n",
       "1107     id0729156          2  2016-06-23 13:36:48  2016-06-23 13:36:50   \n",
       "1492     id2456838          1  2016-01-13 20:11:46  2016-01-13 20:11:53   \n",
       "1728     id2134482          1  2016-01-22 16:13:01  2016-01-22 16:13:20   \n",
       "1960     id0508736          1  2016-03-30 08:05:38  2016-03-30 08:05:41   \n",
       "...            ...        ...                  ...                  ...   \n",
       "1456613  id2650432          1  2016-06-06 18:37:15  2016-06-06 18:37:24   \n",
       "1457121  id2651184          1  2016-04-03 07:24:06  2016-04-03 07:24:13   \n",
       "1457746  id1044471          2  2016-01-29 21:58:11  2016-01-29 21:58:23   \n",
       "1458044  id3200588          2  2016-03-12 01:35:35  2016-03-12 01:35:42   \n",
       "1458085  id1326136          2  2016-05-21 12:07:11  2016-05-21 12:07:28   \n",
       "\n",
       "         passenger_count  pickup_longitude  pickup_latitude  \\\n",
       "842                    2        -73.782372        40.648766   \n",
       "1107                   3        -73.827660        40.716175   \n",
       "1492                   1        -73.793442        40.644814   \n",
       "1728                   1        -73.776314        40.645454   \n",
       "1960                   1        -73.964096        40.777172   \n",
       "...                  ...               ...              ...   \n",
       "1456613                1        -73.789665        40.646984   \n",
       "1457121                1        -73.913620        40.765675   \n",
       "1457746                1        -73.975708        40.733089   \n",
       "1458044                1        -74.007378        40.739441   \n",
       "1458085                1        -73.978935        40.762463   \n",
       "\n",
       "         dropoff_longitude  dropoff_latitude store_and_fwd_flag  trip_duration  \n",
       "842             -73.782372         40.648746                  N              3  \n",
       "1107            -73.822113         40.711452                  N              2  \n",
       "1492            -73.795242         40.644669                  N              7  \n",
       "1728            -73.776314         40.645454                  N             19  \n",
       "1960            -73.964088         40.777157                  N              3  \n",
       "...                    ...               ...                ...            ...  \n",
       "1456613         -73.789658         40.646976                  N              9  \n",
       "1457121         -73.913620         40.765667                  N              7  \n",
       "1457746         -73.975685         40.733101                  N             12  \n",
       "1458044         -74.007378         40.739449                  N              7  \n",
       "1458085         -73.977654         40.762012                  N             17  \n",
       "\n",
       "[3521 rows x 11 columns]"
      ],
      "text/html": "<div>\n<style scoped>\n    .dataframe tbody tr th:only-of-type {\n        vertical-align: middle;\n    }\n\n    .dataframe tbody tr th {\n        vertical-align: top;\n    }\n\n    .dataframe thead th {\n        text-align: right;\n    }\n</style>\n<table border=\"1\" class=\"dataframe\">\n  <thead>\n    <tr style=\"text-align: right;\">\n      <th></th>\n      <th>id</th>\n      <th>vendor_id</th>\n      <th>pickup_datetime</th>\n      <th>dropoff_datetime</th>\n      <th>passenger_count</th>\n      <th>pickup_longitude</th>\n      <th>pickup_latitude</th>\n      <th>dropoff_longitude</th>\n      <th>dropoff_latitude</th>\n      <th>store_and_fwd_flag</th>\n      <th>trip_duration</th>\n    </tr>\n  </thead>\n  <tbody>\n    <tr>\n      <th>842</th>\n      <td>id3263580</td>\n      <td>2</td>\n      <td>2016-05-21 12:46:46</td>\n      <td>2016-05-21 12:46:49</td>\n      <td>2</td>\n      <td>-73.782372</td>\n      <td>40.648766</td>\n      <td>-73.782372</td>\n      <td>40.648746</td>\n      <td>N</td>\n      <td>3</td>\n    </tr>\n    <tr>\n      <th>1107</th>\n      <td>id0729156</td>\n      <td>2</td>\n      <td>2016-06-23 13:36:48</td>\n      <td>2016-06-23 13:36:50</td>\n      <td>3</td>\n      <td>-73.827660</td>\n      <td>40.716175</td>\n      <td>-73.822113</td>\n      <td>40.711452</td>\n      <td>N</td>\n      <td>2</td>\n    </tr>\n    <tr>\n      <th>1492</th>\n      <td>id2456838</td>\n      <td>1</td>\n      <td>2016-01-13 20:11:46</td>\n      <td>2016-01-13 20:11:53</td>\n      <td>1</td>\n      <td>-73.793442</td>\n      <td>40.644814</td>\n      <td>-73.795242</td>\n      <td>40.644669</td>\n      <td>N</td>\n      <td>7</td>\n    </tr>\n    <tr>\n      <th>1728</th>\n      <td>id2134482</td>\n      <td>1</td>\n      <td>2016-01-22 16:13:01</td>\n      <td>2016-01-22 16:13:20</td>\n      <td>1</td>\n      <td>-73.776314</td>\n      <td>40.645454</td>\n      <td>-73.776314</td>\n      <td>40.645454</td>\n      <td>N</td>\n      <td>19</td>\n    </tr>\n    <tr>\n      <th>1960</th>\n      <td>id0508736</td>\n      <td>1</td>\n      <td>2016-03-30 08:05:38</td>\n      <td>2016-03-30 08:05:41</td>\n      <td>1</td>\n      <td>-73.964096</td>\n      <td>40.777172</td>\n      <td>-73.964088</td>\n      <td>40.777157</td>\n      <td>N</td>\n      <td>3</td>\n    </tr>\n    <tr>\n      <th>...</th>\n      <td>...</td>\n      <td>...</td>\n      <td>...</td>\n      <td>...</td>\n      <td>...</td>\n      <td>...</td>\n      <td>...</td>\n      <td>...</td>\n      <td>...</td>\n      <td>...</td>\n      <td>...</td>\n    </tr>\n    <tr>\n      <th>1456613</th>\n      <td>id2650432</td>\n      <td>1</td>\n      <td>2016-06-06 18:37:15</td>\n      <td>2016-06-06 18:37:24</td>\n      <td>1</td>\n      <td>-73.789665</td>\n      <td>40.646984</td>\n      <td>-73.789658</td>\n      <td>40.646976</td>\n      <td>N</td>\n      <td>9</td>\n    </tr>\n    <tr>\n      <th>1457121</th>\n      <td>id2651184</td>\n      <td>1</td>\n      <td>2016-04-03 07:24:06</td>\n      <td>2016-04-03 07:24:13</td>\n      <td>1</td>\n      <td>-73.913620</td>\n      <td>40.765675</td>\n      <td>-73.913620</td>\n      <td>40.765667</td>\n      <td>N</td>\n      <td>7</td>\n    </tr>\n    <tr>\n      <th>1457746</th>\n      <td>id1044471</td>\n      <td>2</td>\n      <td>2016-01-29 21:58:11</td>\n      <td>2016-01-29 21:58:23</td>\n      <td>1</td>\n      <td>-73.975708</td>\n      <td>40.733089</td>\n      <td>-73.975685</td>\n      <td>40.733101</td>\n      <td>N</td>\n      <td>12</td>\n    </tr>\n    <tr>\n      <th>1458044</th>\n      <td>id3200588</td>\n      <td>2</td>\n      <td>2016-03-12 01:35:35</td>\n      <td>2016-03-12 01:35:42</td>\n      <td>1</td>\n      <td>-74.007378</td>\n      <td>40.739441</td>\n      <td>-74.007378</td>\n      <td>40.739449</td>\n      <td>N</td>\n      <td>7</td>\n    </tr>\n    <tr>\n      <th>1458085</th>\n      <td>id1326136</td>\n      <td>2</td>\n      <td>2016-05-21 12:07:11</td>\n      <td>2016-05-21 12:07:28</td>\n      <td>1</td>\n      <td>-73.978935</td>\n      <td>40.762463</td>\n      <td>-73.977654</td>\n      <td>40.762012</td>\n      <td>N</td>\n      <td>17</td>\n    </tr>\n  </tbody>\n</table>\n<p>3521 rows × 11 columns</p>\n</div>"
     },
     "metadata": {},
     "execution_count": 8
    }
   ],
   "source": [
    "traindf[traindf[\"trip_duration\"] < 20]"
   ]
  },
  {
   "cell_type": "code",
   "execution_count": null,
   "metadata": {},
   "outputs": [],
   "source": []
  }
 ]
}